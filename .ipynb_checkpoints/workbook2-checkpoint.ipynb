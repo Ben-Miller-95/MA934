{
 "cells": [
  {
   "cell_type": "markdown",
   "metadata": {},
   "source": [
    "# MA934  Numerical Methods - Workbook 2"
   ]
  },
  {
   "cell_type": "code",
   "execution_count": 1,
   "metadata": {
    "collapsed": false
   },
   "outputs": [
    {
     "data": {
      "text/plain": [
       "Fenwick (generic function with 1 method)"
      ]
     },
     "execution_count": 1,
     "metadata": {},
     "output_type": "execute_result"
    }
   ],
   "source": [
    "using Plots\n",
    "using LaTeXStrings\n",
    "\n",
    "include(\"kvpair.jl\")\n",
    "include(\"llist.jl\")\n",
    "include(\"ftree.jl\")\n",
    "include(\"Workbook2Functions.jl\")"
   ]
  },
  {
   "cell_type": "markdown",
   "metadata": {},
   "source": [
    "## Question 1: Linear search using a linked list\n",
    "\n",
    "The file KVPair.jl defines a simple data structure to represent an (Int64, Float64) key-value pair. \n",
    "\n",
    "The file LList.jl defines a linked list that stores a KVPair at each node. Many languages have a keyword NULL. A pointer to any object can take the value NULL to indicate that it doesn't point to anything. NULL is often used to denote the end of a list, the leaves of a tree etc. Julia does not support NULL pointers. This causes a difficulty in implementing recursive data structures. Instead Julia provides a parametric data type Nullable{T} to represent missing values. It is possible to use Nullable types to define recursive data structures although some of the resulting definitions are a bit clumsy. I'm not sure that this is the canonical way to implement structural recursion in Julia. \n",
    "\n",
    "The following points are important:\n",
    "\n",
    "* if a variable has type Nullable{T} then it can either contain a value of type T or nothing (ie a missing value). \n",
    "* the function isnull(x) checks whether a nullable type x has a value or not. \n",
    "* the function get(x) returns the actual value (of type T) contained in a nullable type x.\n",
    "\n",
    "Much more information can be found at https://docs.julialang.org/en/stable/manual/types/\n",
    "\n",
    "The function \n",
    "\n",
    "> buildLList(dataArray::Array{KVPair, 1})\n",
    "\n",
    "takes an array of KVPair objects as input and returns an LList containing these KVPairs. This is illustrated in the code below.\n",
    "\n",
    "1. Write a recursive function that traverses the list and prints out the key-value pairs stored in it. Check that your function works.\n",
    "2. Write a function search(list::Nullable{LList}, k::Int64) that searches an LList for the key k and returns the corresponding KVPair if it is present and a Nullable{KVPair} otherwise. Verify that your function works.\n",
    "3. Use Julia's @timed macro to measure how the typical computational cost of your search() function grows with the length of the list. "
   ]
  },
  {
   "cell_type": "code",
   "execution_count": 2,
   "metadata": {
    "collapsed": false,
    "scrolled": true
   },
   "outputs": [
    {
     "data": {
      "text/plain": [
       "Nullable{LList}(LList(KVPair(1, 0.747255), LList(KVPair(2, 0.145497), LList(KVPair(3, 0.969002), LList(KVPair(4, 0.486916), LList(KVPair(5, 0.414551), LList(KVPair(6, 0.873343), LList(KVPair(7, 0.153231), LList(KVPair(8, 0.932845), LList(KVPair(9, 0.893897), LList(KVPair(10, 0.0692616), LList(KVPair(11, 0.632073), LList(KVPair(12, 0.992674), LList(KVPair(13, 0.0116946), LList(KVPair(14, 0.675532), LList(KVPair(15, 0.753913), LList(KVPair(16, 0.0955486), LList(KVPair(17, 0.753265), LList(KVPair(18, 0.275248), LList(KVPair(19, 0.822155), LList(KVPair(20, 0.180521), LList(KVPair(21, 0.892333), LList(KVPair(22, 0.844341), LList(KVPair(23, 0.814383), LList(KVPair(24, 0.248095), LList(KVPair(25, 0.263959), LList(KVPair(26, 0.824999), LList(KVPair(27, 0.158292), LList(KVPair(28, 0.780647), LList(KVPair(29, 0.89633), LList(KVPair(30, 0.5422), LList(KVPair(31, 0.693328), LList(KVPair(32, 0.23318), LList(KVPair(33, 0.824907), LList(KVPair(34, 0.937595), LList(KVPair(35, 0.261508), LList(KVPair(36, 0.711338), LList(KVPair(37, 0.0894276), LList(KVPair(38, 0.442265), LList(KVPair(39, 0.234328), LList(KVPair(40, 0.741017), LList(KVPair(41, 0.835872), LList(KVPair(42, 0.901942), LList(KVPair(43, 0.559604), LList(KVPair(44, 0.470608), LList(KVPair(45, 0.0305224), LList(KVPair(46, 0.939994), LList(KVPair(47, 0.835513), LList(KVPair(48, 0.729107), LList(KVPair(49, 0.3944), LList(KVPair(50, 0.891847), #NULL)))))))))))))))))))))))))))))))))))))))))))))))))))"
      ]
     },
     "execution_count": 2,
     "metadata": {},
     "output_type": "execute_result"
    }
   ],
   "source": [
    "seed = 356\n",
    "rng = MersenneTwister(seed)\n",
    "\n",
    "n=50\n",
    "X = rand(rng, 50)\n",
    "\n",
    "values = Array{KVPair}(50)\n",
    "for i in 1:n\n",
    "    values[i] = KVPair(i,X[i])\n",
    "end\n",
    "\n",
    "list = Nullable{LList}()\n",
    "list = buildLList(values)"
   ]
  },
  {
   "cell_type": "code",
   "execution_count": 3,
   "metadata": {
    "collapsed": false
   },
   "outputs": [
    {
     "name": "stdout",
     "output_type": "stream",
     "text": [
      "KVPair(1, 0.7472545964594577)\n",
      "KVPair(2, 0.14549695600544843)\n",
      "KVPair(3, 0.9690018577421984)\n",
      "KVPair(4, 0.486916330721868)\n",
      "KVPair(5, 0.4145508729056109)\n",
      "KVPair(6, 0.8733429597666571)\n",
      "KVPair(7, 0.15323137265995235)\n",
      "KVPair(8, 0.9328450471696128)\n",
      "KVPair(9, 0.8938967405203431)\n",
      "KVPair(10, 0.06926158047860165)\n",
      "KVPair(11, 0.632072624601481)\n",
      "KVPair(12, 0.9926738135587805)\n",
      "KVPair(13, 0.011694647068487551)\n",
      "KVPair(14, 0.6755318327824862)\n",
      "KVPair(15, 0.7539131495077855)\n",
      "KVPair(16, 0.09554859899809287)\n",
      "KVPair(17, 0.7532651080693984)\n",
      "KVPair(18, 0.2752484258147123)\n",
      "KVPair(19, 0.8221546404010152)\n",
      "KVPair(20, 0.18052069270166893)\n",
      "KVPair(21, 0.8923325534566664)\n",
      "KVPair(22, 0.844341175395964)\n",
      "KVPair(23, 0.8143826874638205)\n",
      "KVPair(24, 0.24809544303525355)\n",
      "KVPair(25, 0.26395859281381306)\n",
      "KVPair(26, 0.8249993131821536)\n",
      "KVPair(27, 0.15829200016113365)\n",
      "KVPair(28, 0.7806473934307105)\n",
      "KVPair(29, 0.8963301361313718)\n",
      "KVPair(30, 0.5422001425215408)\n",
      "KVPair(31, 0.6933279832426436)\n",
      "KVPair(32, 0.23317968602395434)\n",
      "KVPair(33, 0.8249068519133416)\n",
      "KVPair(34, 0.9375949686821412)\n",
      "KVPair(35, 0.26150750175136084)\n",
      "KVPair(36, 0.7113377603901605)\n",
      "KVPair(37, 0.08942755559385596)\n",
      "KVPair(38, 0.4422646041705416)\n",
      "KVPair(39, 0.2343277697843298)\n",
      "KVPair(40, 0.7410172020633907)\n",
      "KVPair(41, 0.8358722450358653)\n",
      "KVPair(42, 0.9019424663768147)\n",
      "KVPair(43, 0.5596040135404454)\n",
      "KVPair(44, 0.47060779819046883)\n",
      "KVPair(45, 0.03052236915492257)\n",
      "KVPair(46, 0.9399941490395824)\n",
      "KVPair(47, 0.8355125215134542)\n",
      "KVPair(48, 0.7291068189340313)\n",
      "KVPair(49, 0.3944002688159858)\n",
      "KVPair(50, 0.8918472893515472)\n"
     ]
    }
   ],
   "source": [
    "kvp(list)"
   ]
  },
  {
   "cell_type": "code",
   "execution_count": 4,
   "metadata": {
    "collapsed": false
   },
   "outputs": [
    {
     "name": "stdout",
     "output_type": "stream",
     "text": [
      "Search for k = 36\n",
      "KVPair(36, 0.7113377603901605)\n"
     ]
    }
   ],
   "source": [
    "println(\"Search for k = 36\")\n",
    "search(list, 36)"
   ]
  },
  {
   "cell_type": "code",
   "execution_count": 19,
   "metadata": {
    "collapsed": false
   },
   "outputs": [
    {
     "data": {
      "text/plain": [
       "100-element Array{Float64,1}:\n",
       " 0.000479006\n",
       " 0.00100596 \n",
       " 0.00238103 \n",
       " 0.00243737 \n",
       " 0.00321041 \n",
       " 0.00532541 \n",
       " 0.00813418 \n",
       " 0.00541086 \n",
       " 0.00586288 \n",
       " 0.007038   \n",
       " 0.0104207  \n",
       " 0.0123017  \n",
       " 0.00902192 \n",
       " ⋮          \n",
       " 0.0850323  \n",
       " 0.0850346  \n",
       " 0.0897921  \n",
       " 0.0828709  \n",
       " 0.087645   \n",
       " 0.0881493  \n",
       " 0.0866538  \n",
       " 0.0925439  \n",
       " 0.0952885  \n",
       " 0.113406   \n",
       " 0.10415    \n",
       " 0.121011   "
      ]
     },
     "execution_count": 19,
     "metadata": {},
     "output_type": "execute_result"
    }
   ],
   "source": [
    "include(\"Workbook2Functions.jl\")\n",
    "time = costsearch2(100)"
   ]
  },
  {
   "cell_type": "code",
   "execution_count": 20,
   "metadata": {
    "collapsed": false
   },
   "outputs": [
    {
     "data": {
      "text/html": [
       "<script src=\"/Users/colmconnaughton/.julia/v0.6/Plots/src/backends/../../deps/plotly-latest.min.js\"></script>    <div id=\"4e1aef14-e8dd-4712-b803-1a329279797c\" style=\"width:600px;height:400px;\"></div>\n",
       "    <script>\n",
       "    PLOT = document.getElementById('4e1aef14-e8dd-4712-b803-1a329279797c');\n",
       "    Plotly.plot(PLOT, [{\"showlegend\":true,\"mode\":\"lines\",\"xaxis\":\"x\",\"colorbar\":{\"title\":\"\"},\"line\":{\"color\":\"rgba(0, 154, 250, 1.000)\",\"shape\":\"linear\",\"dash\":\"solid\",\"width\":1},\"y\":[0.000479006,0.001005956,0.002381031,0.002437371,0.003210406,0.005325414,0.008134178,0.005410862,0.00586288,0.007038005,0.010420705,0.012301727,0.009021916,0.009801619,0.012836091,0.012632595,0.012448202,0.013475605,0.017804949,0.017446789,0.024016958,0.018573301,0.01951524,0.021766112,0.026153445,0.022117696,0.02986914,0.024293642,0.028268296,0.028855643,0.030775058,0.035390815,0.03160499,0.038628464,0.03763162,0.039450935,0.03283632,0.034758567,0.03451136,0.038253433,0.035291117,0.04470884,0.036431837,0.03933025,0.039496947,0.040638759,0.04161323,0.040931107,0.04174901,0.048112075,0.046509059,0.046478233,0.050356396,0.050087797,0.060315456,0.05260008,0.050077332,0.056130481,0.053369238,0.056098222,0.054984773,0.073500263,0.074215042,0.064589723,0.072929169,0.073536452,0.062901492,0.060411517,0.067117866,0.062707195,0.061772006,0.06569516,0.065301362,0.068382962,0.170079708,0.101203945,0.071887498,0.069397463,0.070128799,0.074951523,0.094495035,0.08147535,0.084625732,0.10508265,0.099655838,0.088621141,0.076164316,0.085576769,0.085032315,0.085034638,0.089792105,0.082870927,0.087644974,0.088149258,0.086653765,0.092543916,0.095288454,0.113406418,0.104149628,0.12101096],\"type\":\"scatter\",\"name\":\"y1\",\"yaxis\":\"y\",\"x\":[100,200,300,400,500,600,700,800,900,1000,1100,1200,1300,1400,1500,1600,1700,1800,1900,2000,2100,2200,2300,2400,2500,2600,2700,2800,2900,3000,3100,3200,3300,3400,3500,3600,3700,3800,3900,4000,4100,4200,4300,4400,4500,4600,4700,4800,4900,5000,5100,5200,5300,5400,5500,5600,5700,5800,5900,6000,6100,6200,6300,6400,6500,6600,6700,6800,6900,7000,7100,7200,7300,7400,7500,7600,7700,7800,7900,8000,8100,8200,8300,8400,8500,8600,8700,8800,8900,9000,9100,9200,9300,9400,9500,9600,9700,9800,9900,10000]}], {\"showlegend\":true,\"xaxis\":{\"gridwidth\":0.5,\"tickvals\":[2000.0,4000.0,6000.0,8000.0,10000.0],\"visible\":true,\"ticks\":\"inside\",\"tickmode\":\"array\",\"domain\":[0.09128390201224845,0.9934383202099738],\"linecolor\":\"rgba(0, 0, 0, 1.000)\",\"showgrid\":true,\"title\":\"Length of list\",\"mirror\":false,\"tickangle\":0,\"showline\":true,\"gridcolor\":\"rgba(0, 0, 0, 0.100)\",\"titlefont\":{\"color\":\"rgba(0, 0, 0, 1.000)\",\"family\":\"sans-serif\",\"size\":15},\"tickcolor\":\"rgb(0, 0, 0)\",\"ticktext\":[\"2000\",\"4000\",\"6000\",\"8000\",\"10000\"],\"zeroline\":false,\"type\":\"-\",\"tickfont\":{\"color\":\"rgba(0, 0, 0, 1.000)\",\"family\":\"sans-serif\",\"size\":11},\"zerolinecolor\":\"rgba(0, 0, 0, 1.000)\",\"anchor\":\"y\"},\"paper_bgcolor\":\"rgba(255, 255, 255, 1.000)\",\"annotations\":[{\"yanchor\":\"top\",\"xanchor\":\"center\",\"rotation\":-0.0,\"y\":1.0,\"font\":{\"color\":\"rgba(0, 0, 0, 1.000)\",\"family\":\"sans-serif\",\"size\":20},\"yref\":\"paper\",\"showarrow\":false,\"text\":\"Computational complexity of the search function\",\"xref\":\"paper\",\"x\":0.5423611111111111}],\"height\":400,\"margin\":{\"l\":0,\"b\":20,\"r\":0,\"t\":20},\"plot_bgcolor\":\"rgba(255, 255, 255, 1.000)\",\"yaxis\":{\"gridwidth\":0.5,\"tickvals\":[0.03,0.06,0.09,0.12,0.15],\"visible\":true,\"ticks\":\"inside\",\"tickmode\":\"array\",\"domain\":[0.07581474190726165,0.9415463692038496],\"linecolor\":\"rgba(0, 0, 0, 1.000)\",\"showgrid\":true,\"title\":\"Computational complexity\",\"mirror\":false,\"tickangle\":0,\"showline\":true,\"gridcolor\":\"rgba(0, 0, 0, 0.100)\",\"titlefont\":{\"color\":\"rgba(0, 0, 0, 1.000)\",\"family\":\"sans-serif\",\"size\":15},\"tickcolor\":\"rgb(0, 0, 0)\",\"ticktext\":[\"0.03\",\"0.06\",\"0.09\",\"0.12\",\"0.15\"],\"zeroline\":false,\"type\":\"-\",\"tickfont\":{\"color\":\"rgba(0, 0, 0, 1.000)\",\"family\":\"sans-serif\",\"size\":11},\"zerolinecolor\":\"rgba(0, 0, 0, 1.000)\",\"anchor\":\"x\"},\"legend\":{\"bordercolor\":\"rgba(0, 0, 0, 1.000)\",\"bgcolor\":\"rgba(255, 255, 255, 1.000)\",\"font\":{\"color\":\"rgba(0, 0, 0, 1.000)\",\"family\":\"sans-serif\",\"size\":11},\"y\":1.0,\"x\":1.0},\"width\":600});\n",
       "    </script>\n"
      ]
     },
     "execution_count": 20,
     "metadata": {},
     "output_type": "execute_result"
    }
   ],
   "source": [
    "x = 1:100\n",
    "x = 100*x\n",
    "\n",
    "plotly()\n",
    "Plots.plot(x, time, title = \"Computational complexity of the search function\", xlabel = \"Length of list\", ylabel = \"Computational complexity\")\n",
    "\n",
    "#This is wrong, but can't see where the error in my code is."
   ]
  },
  {
   "cell_type": "markdown",
   "metadata": {},
   "source": [
    "<font color=blue>\n",
    "I think the problem was that you were over-writing your list as you searched it. I have modified your search function in the associated Workbook2Functions.jl to fix this. See comments in the code. Your timing function costsearch() was also a bit strange - the number of searches was equal to the length of the array I think. I have written a revised version costsearch2() that times a fixed number (1000) searches for a sequence of random keys uniformly sampled from the set of keys stored in the list. The result looks roughly linear aside from a few occasional spikes, the origin of which is not clear. \n",
    "</font>"
   ]
  },
  {
   "cell_type": "markdown",
   "metadata": {},
   "source": [
    "<font color=blue>\n",
    "10/15\n",
    "</font>"
   ]
  },
  {
   "cell_type": "markdown",
   "metadata": {},
   "source": [
    "## Question 2: Interval membership\n",
    "\n",
    "The problem of interval membership is the following: given a set of contiguous intervals, \n",
    "\n",
    "$\\left\\{[x_0, x_1), [x_1, x_2), \\ldots, [x_{n-2}, x_{n-1}), [x_{n-1}, x_n)\\right\\}$\n",
    "\n",
    "spanning the interval $[x_1, x_n)$ and given a random number $x \\in [x_1, x_n)$, determine the interval in which $x$ lies. The standard numerical algorithm for stochastic simulation of continuous-time Markov processes (eg birth-death process, contact process, SIR model etc) requires solving an interval membership problem at each time step. It is therefore important to be able to solve it efficiently. Note, we cannot assume that all intervals are the same length.\n",
    "\n",
    "We can solve the interval membership problem with $n$ interval by a variant of linear search in $O(n)$ time. We will demonstrate below that it can be solved in $O(\\log\\, n)$ time using a variant of a data structure known as a Fenwick tree.\n",
    "\n",
    "**1)** Use Julia's random number generator to generate $n$ random interval lengths, $y_1, y_2, \\ldots, y_n$ between 0 and 1 as shown: "
   ]
  },
  {
   "cell_type": "code",
   "execution_count": 21,
   "metadata": {
    "collapsed": false
   },
   "outputs": [
    {
     "name": "stdout",
     "output_type": "stream",
     "text": [
      "[0.747255, 0.145497, 0.969002, 0.486916, 0.414551, 0.873343, 0.153231, 0.932845, 0.893897, 0.0692616]\n",
      "[0.747255, 0.892752, 1.86175, 2.34867, 2.76322, 3.63656, 3.78979, 4.72264, 5.61654, 5.6858]\n"
     ]
    }
   ],
   "source": [
    "n = 10\n",
    "seed = 356\n",
    "rng = MersenneTwister(seed)\n",
    "Y = rand(rng, n);\n",
    "\n",
    "X = zeros(n)\n",
    "\n",
    "println(Y)\n",
    "\n",
    "for i in 1:n\n",
    "    X[i] = sum(Y[1:i])\n",
    "end\n",
    "\n",
    "println(X)"
   ]
  },
  {
   "cell_type": "markdown",
   "metadata": {},
   "source": [
    "The corresponding interval membership problem is constructed from the partial sums:\n",
    "$$x_i = \\sum_{j=1}^i y_j, \\ \\ \\ \\ \\ i=1,2,\\ldots n.$$ \n",
    "Using the objects defined in KVPair.jl and LList.jl, create an array of key-value pairs, $(i, x_i)$, associating each interval with the corresponding partial sum and store this array in a linked list. Print the list for a small value of $n$to verify that it works.\n",
    "\n",
    "**2)** Modify the search function you wrote above to write a recursive function\n",
    "\n",
    "$$\\text{intervalmembership(list::Nullable{LList}, x::Float64)}$$\n",
    "\n",
    "that takes the LList containing the list of partial sums and a random Float64 in the range $[0, x_n]$ as inputs and returns the KVPair corresponding to the interval in which $x$ lies. Verify that it works for small values of $n$ and use Julia's @timed macro to measure how the typical computational cost grows with $n$. \n",
    "\n",
    "**3)** The file FTree.jl defines a data structure implementing a variant of a Fenwick tree that can solve the interval membership problem as described in the lectures/notes. The function \n",
    "\n",
    "$$\\text{buildFTree(T::Nullable{FTree}, dataArray::Array{KVPair, 1})}$$\n",
    "\n",
    "takes the array of KVPairs containing the interval lengths as input, recursively constructs the tree and returns the FTree containing the correct key-value pairs (note a key of -1 is assigned to all non-leaf nodes)."
   ]
  },
  {
   "cell_type": "code",
   "execution_count": 22,
   "metadata": {
    "collapsed": false
   },
   "outputs": [
    {
     "name": "stdout",
     "output_type": "stream",
     "text": [
      "KVPair(3, 1.8617534102071045)"
     ]
    }
   ],
   "source": [
    "n = 10\n",
    "seed = 356\n",
    "rng = MersenneTwister(seed)\n",
    "Y = rand(rng, n)\n",
    "X = zeros(n)\n",
    "\n",
    "for i in 1:n\n",
    "    X[i] = sum(Y[1:i])\n",
    "end\n",
    "\n",
    "# Now calculate the array of partial sums\n",
    "values = Array{KVPair}(n)\n",
    "for i in 1:n\n",
    "    values[i] = KVPair(i,X[i])\n",
    "end\n",
    "\n",
    "list = Nullable{LList}()\n",
    "list = buildLList(values)\n",
    "\n",
    "intervalmembership(list, 1.5)"
   ]
  },
  {
   "cell_type": "markdown",
   "metadata": {},
   "source": [
    "<font color=blue>\n",
    "There is a cumsum() function that you might find handy here...\n",
    "</font>"
   ]
  },
  {
   "cell_type": "markdown",
   "metadata": {},
   "source": [
    "Write a recursive function\n",
    "\n",
    "$$\\text{intervalmembership(FT::Nullable{FTree}, x::Float64)}$$\n",
    "\n",
    "that takes the FTree containing the list of partial sums and a random Float64 in the range $[0, x_n]$ as \n",
    "\n",
    "inputs and returns the KVPair corresponding to the interval in which $x$ lies. Verify that it works for small values of $n$ and use Julia's @timed macro to compare how the typical computational compares to the above linear search version. Note it can sometimes be difficult to directly measure $O(\\log\\, n)$ growth in computation time since the problem size needs to become very large to register appreciable run times."
   ]
  },
  {
   "cell_type": "code",
   "execution_count": 23,
   "metadata": {
    "collapsed": false
   },
   "outputs": [
    {
     "data": {
      "text/plain": [
       "KVPair(3, 0.9690018577421984)"
      ]
     },
     "execution_count": 23,
     "metadata": {},
     "output_type": "execute_result"
    }
   ],
   "source": [
    "n = 10\n",
    "seed = 356\n",
    "rng = MersenneTwister(seed)\n",
    "Y = rand(rng, n)\n",
    "\n",
    "values = Array{KVPair}(n)\n",
    "for i in 1:n\n",
    "    values[i] = KVPair(i,Y[i])\n",
    "end\n",
    "\n",
    "T = Nullable{FTree}(FTree(KVPair(0,0.0)))\n",
    "T = buildFTree(T, values)\n",
    "\n",
    "Fenwick(T, 1.5)"
   ]
  },
  {
   "cell_type": "code",
   "execution_count": 24,
   "metadata": {
    "collapsed": false
   },
   "outputs": [
    {
     "data": {
      "text/plain": [
       "10-element Array{Float64,1}:\n",
       " 0.747255\n",
       " 0.892752\n",
       " 1.86175 \n",
       " 2.34867 \n",
       " 2.76322 \n",
       " 3.63656 \n",
       " 3.78979 \n",
       " 4.72264 \n",
       " 5.61654 \n",
       " 5.6858  "
      ]
     },
     "execution_count": 24,
     "metadata": {},
     "output_type": "execute_result"
    }
   ],
   "source": [
    "cumsum(Y)"
   ]
  },
  {
   "cell_type": "code",
   "execution_count": 25,
   "metadata": {
    "collapsed": false
   },
   "outputs": [
    {
     "data": {
      "text/plain": [
       "10-element Array{KVPair,1}:\n",
       " KVPair(1, 0.747255)  \n",
       " KVPair(2, 0.145497)  \n",
       " KVPair(3, 0.969002)  \n",
       " KVPair(4, 0.486916)  \n",
       " KVPair(5, 0.414551)  \n",
       " KVPair(6, 0.873343)  \n",
       " KVPair(7, 0.153231)  \n",
       " KVPair(8, 0.932845)  \n",
       " KVPair(9, 0.893897)  \n",
       " KVPair(10, 0.0692616)"
      ]
     },
     "execution_count": 25,
     "metadata": {},
     "output_type": "execute_result"
    }
   ],
   "source": [
    "values"
   ]
  },
  {
   "cell_type": "markdown",
   "metadata": {},
   "source": [
    "<font color=blue>\n",
    "Looks correct - pity you didn't get this one finished.\n",
    "</font>"
   ]
  },
  {
   "cell_type": "markdown",
   "metadata": {},
   "source": [
    "<font color=blue>\n",
    "11/15\n",
    "</font>"
   ]
  },
  {
   "cell_type": "code",
   "execution_count": null,
   "metadata": {
    "collapsed": true
   },
   "outputs": [],
   "source": []
  }
 ],
 "metadata": {
  "kernelspec": {
   "display_name": "Julia 0.6.0",
   "language": "julia",
   "name": "julia-0.6"
  },
  "language_info": {
   "file_extension": ".jl",
   "mimetype": "application/julia",
   "name": "julia",
   "version": "0.6.0"
  }
 },
 "nbformat": 4,
 "nbformat_minor": 1
}
